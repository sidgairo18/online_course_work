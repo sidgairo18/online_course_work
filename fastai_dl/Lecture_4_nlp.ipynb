{
 "cells": [
  {
   "cell_type": "markdown",
   "metadata": {},
   "source": [
    "# IMDb"
   ]
  },
  {
   "cell_type": "code",
   "execution_count": 1,
   "metadata": {},
   "outputs": [],
   "source": [
    "%reload_ext autoreload\n",
    "%autoreload 2\n",
    "%matplotlib inline"
   ]
  },
  {
   "cell_type": "code",
   "execution_count": 2,
   "metadata": {},
   "outputs": [],
   "source": [
    "from fastai.text import *"
   ]
  },
  {
   "cell_type": "code",
   "execution_count": 3,
   "metadata": {},
   "outputs": [
    {
     "data": {
      "text/plain": [
       "[PosixPath('/home/kritika.prakash/.fastai/data/imdb_sample/data_save.pkl'),\n",
       " PosixPath('/home/kritika.prakash/.fastai/data/imdb_sample/texts.csv')]"
      ]
     },
     "execution_count": 3,
     "metadata": {},
     "output_type": "execute_result"
    }
   ],
   "source": [
    "path = untar_data(URLs.IMDB_SAMPLE)\n",
    "path.ls()"
   ]
  },
  {
   "cell_type": "code",
   "execution_count": 4,
   "metadata": {},
   "outputs": [
    {
     "data": {
      "text/html": [
       "<div>\n",
       "<style scoped>\n",
       "    .dataframe tbody tr th:only-of-type {\n",
       "        vertical-align: middle;\n",
       "    }\n",
       "\n",
       "    .dataframe tbody tr th {\n",
       "        vertical-align: top;\n",
       "    }\n",
       "\n",
       "    .dataframe thead th {\n",
       "        text-align: right;\n",
       "    }\n",
       "</style>\n",
       "<table border=\"1\" class=\"dataframe\">\n",
       "  <thead>\n",
       "    <tr style=\"text-align: right;\">\n",
       "      <th></th>\n",
       "      <th>label</th>\n",
       "      <th>text</th>\n",
       "      <th>is_valid</th>\n",
       "    </tr>\n",
       "  </thead>\n",
       "  <tbody>\n",
       "    <tr>\n",
       "      <th>0</th>\n",
       "      <td>negative</td>\n",
       "      <td>Un-bleeping-believable! Meg Ryan doesn't even ...</td>\n",
       "      <td>False</td>\n",
       "    </tr>\n",
       "    <tr>\n",
       "      <th>1</th>\n",
       "      <td>positive</td>\n",
       "      <td>This is a extremely well-made film. The acting...</td>\n",
       "      <td>False</td>\n",
       "    </tr>\n",
       "    <tr>\n",
       "      <th>2</th>\n",
       "      <td>negative</td>\n",
       "      <td>Every once in a long while a movie will come a...</td>\n",
       "      <td>False</td>\n",
       "    </tr>\n",
       "    <tr>\n",
       "      <th>3</th>\n",
       "      <td>positive</td>\n",
       "      <td>Name just says it all. I watched this movie wi...</td>\n",
       "      <td>False</td>\n",
       "    </tr>\n",
       "    <tr>\n",
       "      <th>4</th>\n",
       "      <td>negative</td>\n",
       "      <td>This movie succeeds at being one of the most u...</td>\n",
       "      <td>False</td>\n",
       "    </tr>\n",
       "  </tbody>\n",
       "</table>\n",
       "</div>"
      ],
      "text/plain": [
       "      label                                               text  is_valid\n",
       "0  negative  Un-bleeping-believable! Meg Ryan doesn't even ...     False\n",
       "1  positive  This is a extremely well-made film. The acting...     False\n",
       "2  negative  Every once in a long while a movie will come a...     False\n",
       "3  positive  Name just says it all. I watched this movie wi...     False\n",
       "4  negative  This movie succeeds at being one of the most u...     False"
      ]
     },
     "execution_count": 4,
     "metadata": {},
     "output_type": "execute_result"
    }
   ],
   "source": [
    "df = pd.read_csv(path/'texts.csv')\n",
    "df.head()"
   ]
  },
  {
   "cell_type": "code",
   "execution_count": 5,
   "metadata": {},
   "outputs": [
    {
     "data": {
      "text/plain": [
       "'This is a extremely well-made film. The acting, script and camera-work are all first-rate. The music is good, too, though it is mostly early in the film, when things are still relatively cheery. There are no really superstars in the cast, though several faces will be familiar. The entire cast does an excellent job with the script.<br /><br />But it is hard to watch, because there is no good end to a situation like the one presented. It is now fashionable to blame the British for setting Hindus and Muslims against each other, and then cruelly separating them into two countries. There is some merit in this view, but it\\'s also true that no one forced Hindus and Muslims in the region to mistreat each other as they did around the time of partition. It seems more likely that the British simply saw the tensions between the religions and were clever enough to exploit them to their own ends.<br /><br />The result is that there is much cruelty and inhumanity in the situation and this is very unpleasant to remember and to see on the screen. But it is never painted as a black-and-white case. There is baseness and nobility on both sides, and also the hope for change in the younger generation.<br /><br />There is redemption of a sort, in the end, when Puro has to make a hard choice between a man who has ruined her life, but also truly loved her, and her family which has disowned her, then later come looking for her. But by that point, she has no option that is without great pain for her.<br /><br />This film carries the message that both Muslims and Hindus have their grave faults, and also that both can be dignified and caring people. The reality of partition makes that realisation all the more wrenching, since there can never be real reconciliation across the India/Pakistan border. In that sense, it is similar to \"Mr & Mrs Iyer\".<br /><br />In the end, we were glad to have seen the film, even though the resolution was heartbreaking. If the UK and US could deal with their own histories of racism with this kind of frankness, they would certainly be better off.'"
      ]
     },
     "execution_count": 5,
     "metadata": {},
     "output_type": "execute_result"
    }
   ],
   "source": [
    "df['text'][1]"
   ]
  },
  {
   "cell_type": "code",
   "execution_count": 6,
   "metadata": {},
   "outputs": [
    {
     "data": {
      "text/html": [],
      "text/plain": [
       "<IPython.core.display.HTML object>"
      ]
     },
     "metadata": {},
     "output_type": "display_data"
    },
    {
     "data": {
      "text/html": [],
      "text/plain": [
       "<IPython.core.display.HTML object>"
      ]
     },
     "metadata": {},
     "output_type": "display_data"
    }
   ],
   "source": [
    "data_lm = TextDataBunch.from_csv(path, 'texts.csv')"
   ]
  },
  {
   "cell_type": "code",
   "execution_count": 7,
   "metadata": {},
   "outputs": [],
   "source": [
    "data_lm.save()"
   ]
  },
  {
   "cell_type": "code",
   "execution_count": 9,
   "metadata": {},
   "outputs": [],
   "source": [
    "data = load_data(path)"
   ]
  },
  {
   "cell_type": "code",
   "execution_count": 10,
   "metadata": {},
   "outputs": [
    {
     "data": {
      "text/html": [],
      "text/plain": [
       "<IPython.core.display.HTML object>"
      ]
     },
     "metadata": {},
     "output_type": "display_data"
    },
    {
     "data": {
      "text/html": [],
      "text/plain": [
       "<IPython.core.display.HTML object>"
      ]
     },
     "metadata": {},
     "output_type": "display_data"
    },
    {
     "data": {
      "text/html": [
       "<table border=\"1\" class=\"dataframe\">\n",
       "  <thead>\n",
       "    <tr style=\"text-align: right;\">\n",
       "      <th>text</th>\n",
       "      <th>target</th>\n",
       "    </tr>\n",
       "  </thead>\n",
       "  <tbody>\n",
       "    <tr>\n",
       "      <td>xxbos xxup the xxup shop xxup around xxup the xxup corner is one of the sweetest and most feel - good romantic comedies ever made . xxmaj there 's just no getting around that , and it 's hard to actually put one 's feeling for this film into words . xxmaj it 's not one of those films that tries too hard , nor does it come up with</td>\n",
       "      <td>positive</td>\n",
       "    </tr>\n",
       "    <tr>\n",
       "      <td>xxbos xxmaj now that xxmaj che(2008 ) has finished its relatively short xxmaj australian cinema run ( extremely limited xxunk screen in xxmaj sydney , after xxunk ) , i can xxunk join both xxunk of \" xxmaj at xxmaj the xxmaj movies \" in taking xxmaj steven xxmaj soderbergh to task . \\n \\n  xxmaj it 's usually satisfying to watch a film director change his style /</td>\n",
       "      <td>negative</td>\n",
       "    </tr>\n",
       "    <tr>\n",
       "      <td>xxbos xxmaj this film sat on my xxmaj tivo for weeks before i watched it . i dreaded a self - indulgent xxunk flick about relationships gone bad . i was wrong ; this was an xxunk xxunk into the xxunk - up xxunk of xxmaj new xxmaj xxunk . \\n \\n  xxmaj the format is the same as xxmaj max xxmaj xxunk ' \" xxmaj la xxmaj ronde</td>\n",
       "      <td>positive</td>\n",
       "    </tr>\n",
       "    <tr>\n",
       "      <td>xxbos xxmaj many neglect that this is n't just a classic due to the fact that it 's the first xxup 3d game , or even the first xxunk - up . xxmaj it 's also one of the first xxunk games , one of the xxunk definitely the first ) truly claustrophobic games , and just a pretty well - rounded gaming experience in general . xxmaj with graphics</td>\n",
       "      <td>positive</td>\n",
       "    </tr>\n",
       "    <tr>\n",
       "      <td>xxbos i really wanted to love this show . i truly , honestly did . \\n \\n  xxmaj for the first time , gay viewers get their own version of the \" xxmaj the xxmaj bachelor \" . xxmaj with the help of his obligatory \" hag \" xxmaj xxunk , xxmaj james , a good looking , well - to - do thirty - something has the chance</td>\n",
       "      <td>negative</td>\n",
       "    </tr>\n",
       "  </tbody>\n",
       "</table>"
      ],
      "text/plain": [
       "<IPython.core.display.HTML object>"
      ]
     },
     "metadata": {},
     "output_type": "display_data"
    }
   ],
   "source": [
    "#Tokenization\n",
    "data = TextClasDataBunch.from_csv(path, 'texts.csv')\n",
    "data.show_batch()"
   ]
  },
  {
   "cell_type": "code",
   "execution_count": 13,
   "metadata": {},
   "outputs": [
    {
     "data": {
      "text/plain": [
       "['xxunk',\n",
       " 'xxpad',\n",
       " 'xxbos',\n",
       " 'xxeos',\n",
       " 'xxfld',\n",
       " 'xxmaj',\n",
       " 'xxup',\n",
       " 'xxrep',\n",
       " 'xxwrep',\n",
       " 'the']"
      ]
     },
     "execution_count": 13,
     "metadata": {},
     "output_type": "execute_result"
    }
   ],
   "source": [
    "#Numericalization\n",
    "data.vocab.itos[:10]"
   ]
  },
  {
   "cell_type": "code",
   "execution_count": 15,
   "metadata": {},
   "outputs": [
    {
     "data": {
      "text/plain": [
       "Text [   2    5   64    5 ... 6124  916   17   53]"
      ]
     },
     "execution_count": 15,
     "metadata": {},
     "output_type": "execute_result"
    }
   ],
   "source": [
    "data.train_ds[0][0]"
   ]
  },
  {
   "cell_type": "code",
   "execution_count": 16,
   "metadata": {},
   "outputs": [
    {
     "data": {
      "text/plain": [
       "array([   2,    5,   64,    5,  843,    5, 1686,  150,  104,   18])"
      ]
     },
     "execution_count": 16,
     "metadata": {},
     "output_type": "execute_result"
    }
   ],
   "source": [
    "data.train_ds[0][0].data[:10]"
   ]
  },
  {
   "cell_type": "markdown",
   "metadata": {},
   "source": [
    "# Using the data block API"
   ]
  },
  {
   "cell_type": "code",
   "execution_count": 17,
   "metadata": {},
   "outputs": [
    {
     "data": {
      "text/html": [],
      "text/plain": [
       "<IPython.core.display.HTML object>"
      ]
     },
     "metadata": {},
     "output_type": "display_data"
    },
    {
     "data": {
      "text/html": [],
      "text/plain": [
       "<IPython.core.display.HTML object>"
      ]
     },
     "metadata": {},
     "output_type": "display_data"
    }
   ],
   "source": [
    "data = (TextList.from_csv(path, 'texts.csv', cols='text')\n",
    "                .split_from_df(col=2)\n",
    "                .label_from_df(cols=0)\n",
    "                .databunch())"
   ]
  },
  {
   "cell_type": "code",
   "execution_count": 18,
   "metadata": {},
   "outputs": [],
   "source": [
    "bs=32"
   ]
  },
  {
   "cell_type": "code",
   "execution_count": 19,
   "metadata": {},
   "outputs": [
    {
     "data": {
      "text/plain": [
       "[PosixPath('/home/kritika.prakash/.fastai/data/imdb/imdb.vocab'),\n",
       " PosixPath('/home/kritika.prakash/.fastai/data/imdb/tmp_clas'),\n",
       " PosixPath('/home/kritika.prakash/.fastai/data/imdb/tmp_lm'),\n",
       " PosixPath('/home/kritika.prakash/.fastai/data/imdb/README'),\n",
       " PosixPath('/home/kritika.prakash/.fastai/data/imdb/unsup'),\n",
       " PosixPath('/home/kritika.prakash/.fastai/data/imdb/test'),\n",
       " PosixPath('/home/kritika.prakash/.fastai/data/imdb/train')]"
      ]
     },
     "execution_count": 19,
     "metadata": {},
     "output_type": "execute_result"
    }
   ],
   "source": [
    "path = untar_data(URLs.IMDB)\n",
    "path.ls()"
   ]
  },
  {
   "cell_type": "code",
   "execution_count": 20,
   "metadata": {},
   "outputs": [
    {
     "data": {
      "text/plain": [
       "[PosixPath('/home/kritika.prakash/.fastai/data/imdb/train/unsupBow.feat'),\n",
       " PosixPath('/home/kritika.prakash/.fastai/data/imdb/train/neg'),\n",
       " PosixPath('/home/kritika.prakash/.fastai/data/imdb/train/labeledBow.feat'),\n",
       " PosixPath('/home/kritika.prakash/.fastai/data/imdb/train/pos')]"
      ]
     },
     "execution_count": 20,
     "metadata": {},
     "output_type": "execute_result"
    }
   ],
   "source": [
    "(path/'train').ls()"
   ]
  },
  {
   "cell_type": "code",
   "execution_count": 21,
   "metadata": {},
   "outputs": [
    {
     "data": {
      "text/html": [],
      "text/plain": [
       "<IPython.core.display.HTML object>"
      ]
     },
     "metadata": {},
     "output_type": "display_data"
    },
    {
     "data": {
      "text/html": [],
      "text/plain": [
       "<IPython.core.display.HTML object>"
      ]
     },
     "metadata": {},
     "output_type": "display_data"
    }
   ],
   "source": [
    "data_lm = (TextList.from_folder(path)\n",
    "           #Inputs: all the text files in path\n",
    "            .filter_by_folder(include=['train', 'test', 'unsup']) \n",
    "           #We may have other temp folders that contain text files so we only keep what's in train and test\n",
    "            .split_by_rand_pct(0.1)\n",
    "           #We randomly split and keep 10% (10,000 reviews) for validation\n",
    "            .label_for_lm()           \n",
    "           #We want to do a language model so we label accordingly\n",
    "            .databunch(bs=bs))\n",
    "data_lm.save('data_lm.pkl')"
   ]
  },
  {
   "cell_type": "code",
   "execution_count": 22,
   "metadata": {},
   "outputs": [],
   "source": [
    "data_lm = load_data(path, 'data_lm.pkl', bs=bs)"
   ]
  },
  {
   "cell_type": "code",
   "execution_count": 23,
   "metadata": {},
   "outputs": [
    {
     "data": {
      "text/html": [
       "<table border=\"1\" class=\"dataframe\">\n",
       "  <thead>\n",
       "    <tr style=\"text-align: right;\">\n",
       "      <th>idx</th>\n",
       "      <th>text</th>\n",
       "    </tr>\n",
       "  </thead>\n",
       "  <tbody>\n",
       "    <tr>\n",
       "      <td>0</td>\n",
       "      <td>the characters history and importance is gone more in depth . xxmaj like said before this show has the potential to be as good as smallville if not better . xxmaj how can the xxmaj execs at xxup cw not run a show that the audience has never seen yet . xxmaj justin xxmaj hartley plays a good xxup ac , he has a nice attractive co star xxmaj eva</td>\n",
       "    </tr>\n",
       "    <tr>\n",
       "      <td>1</td>\n",
       "      <td>' 80 's that are making a comeback , as those who were kids in that decade begin to edge their way ever so reluctantly into middle age . xxmaj that 's where the comedy , \" xxmaj kickin ' it xxmaj old xxmaj skool , \" comes in . \\n \\n  xxmaj the premise of the movie is as follows : in 1986 , a ten - year</td>\n",
       "    </tr>\n",
       "    <tr>\n",
       "      <td>2</td>\n",
       "      <td>xxmaj groom for being an idiot . the 3rd person for being an arrogant dumb a$$hole . \\n \\n  sorry for all the swearing . but this \" film \" su xxrep 4 x . xxmaj big time . xxbos xxmaj you could call xxmaj mr. xxmaj woodcock the latest version of xxmaj the xxmaj billy xxmaj bob xxmaj thornton xxmaj movie . xxmaj you know , that movie</td>\n",
       "    </tr>\n",
       "    <tr>\n",
       "      <td>3</td>\n",
       "      <td>' based on actual guideline ' , but there 's just that xxunk lot ) which does n't fit in ( too much xxunk to mention ) . \\n \\n  xxmaj somehow , the xxmaj indian characters seem more white that they should ( as most are played by xxmaj indian ) and somehow white characters seem more like xxunk than actual officers and congressmen . xxmaj and of</td>\n",
       "    </tr>\n",
       "    <tr>\n",
       "      <td>4</td>\n",
       "      <td>and orders xxmaj ethan xxmaj hunt to plant the xxmaj bad xxmaj guy 's xxmaj ex girlfriend in an attempt to undermine him . ( xxmaj would n't it have been better if they just attacked the xxup hq with commandos etc ) \\n \\n  xxmaj in the original film xxmaj ethan xxmaj hunt gets promoted to xxmaj jim xxmaj phelps rank within the organisation but in the sequel</td>\n",
       "    </tr>\n",
       "  </tbody>\n",
       "</table>"
      ],
      "text/plain": [
       "<IPython.core.display.HTML object>"
      ]
     },
     "metadata": {},
     "output_type": "display_data"
    }
   ],
   "source": [
    "data_lm.show_batch()"
   ]
  },
  {
   "cell_type": "code",
   "execution_count": 24,
   "metadata": {},
   "outputs": [
    {
     "name": "stdout",
     "output_type": "stream",
     "text": [
      "Downloading https://s3.amazonaws.com/fast-ai-modelzoo/wt103-fwd.tgz\n"
     ]
    },
    {
     "data": {
      "text/html": [],
      "text/plain": [
       "<IPython.core.display.HTML object>"
      ]
     },
     "metadata": {},
     "output_type": "display_data"
    }
   ],
   "source": [
    "learn = language_model_learner(data_lm, AWD_LSTM, drop_mult=0.3)"
   ]
  },
  {
   "cell_type": "code",
   "execution_count": 25,
   "metadata": {},
   "outputs": [
    {
     "data": {
      "text/html": [
       "\n",
       "    <div>\n",
       "        <style>\n",
       "            /* Turns off some styling */\n",
       "            progress {\n",
       "                /* gets rid of default border in Firefox and Opera. */\n",
       "                border: none;\n",
       "                /* Needs to be in here for Safari polyfill so background images work as expected. */\n",
       "                background-size: auto;\n",
       "            }\n",
       "            .progress-bar-interrupted, .progress-bar-interrupted::-webkit-progress-bar {\n",
       "                background: #F44336;\n",
       "            }\n",
       "        </style>\n",
       "      <progress value='0' class='' max='1' style='width:300px; height:20px; vertical-align: middle;'></progress>\n",
       "      0.00% [0/1 00:00<00:00]\n",
       "    </div>\n",
       "    \n",
       "<table border=\"1\" class=\"dataframe\">\n",
       "  <thead>\n",
       "    <tr style=\"text-align: left;\">\n",
       "      <th>epoch</th>\n",
       "      <th>train_loss</th>\n",
       "      <th>valid_loss</th>\n",
       "      <th>accuracy</th>\n",
       "      <th>time</th>\n",
       "    </tr>\n",
       "  </thead>\n",
       "  <tbody>\n",
       "  </tbody>\n",
       "</table><p>\n",
       "\n",
       "    <div>\n",
       "        <style>\n",
       "            /* Turns off some styling */\n",
       "            progress {\n",
       "                /* gets rid of default border in Firefox and Opera. */\n",
       "                border: none;\n",
       "                /* Needs to be in here for Safari polyfill so background images work as expected. */\n",
       "                background-size: auto;\n",
       "            }\n",
       "            .progress-bar-interrupted, .progress-bar-interrupted::-webkit-progress-bar {\n",
       "                background: #F44336;\n",
       "            }\n",
       "        </style>\n",
       "      <progress value='99' class='' max='12064' style='width:300px; height:20px; vertical-align: middle;'></progress>\n",
       "      0.82% [99/12064 00:12<24:43 11.8611]\n",
       "    </div>\n",
       "    "
      ],
      "text/plain": [
       "<IPython.core.display.HTML object>"
      ]
     },
     "metadata": {},
     "output_type": "display_data"
    },
    {
     "name": "stdout",
     "output_type": "stream",
     "text": [
      "LR Finder is complete, type {learner_name}.recorder.plot() to see the graph.\n"
     ]
    }
   ],
   "source": [
    "learn.lr_find()"
   ]
  },
  {
   "cell_type": "code",
   "execution_count": 26,
   "metadata": {},
   "outputs": [
    {
     "data": {
      "image/png": "[encoded data removed]",
      "text/plain": [
       "<Figure size 432x288 with 1 Axes>"
      ]
     },
     "metadata": {
      "needs_background": "light"
     },
     "output_type": "display_data"
    }
   ],
   "source": [
    "learn.recorder.plot(skip_end=15)"
   ]
  },
  {
   "cell_type": "code",
   "execution_count": 27,
   "metadata": {},
   "outputs": [
    {
     "data": {
      "text/html": [
       "<table border=\"1\" class=\"dataframe\">\n",
       "  <thead>\n",
       "    <tr style=\"text-align: left;\">\n",
       "      <th>epoch</th>\n",
       "      <th>train_loss</th>\n",
       "      <th>valid_loss</th>\n",
       "      <th>accuracy</th>\n",
       "      <th>time</th>\n",
       "    </tr>\n",
       "  </thead>\n",
       "  <tbody>\n",
       "    <tr>\n",
       "      <td>0</td>\n",
       "      <td>4.254209</td>\n",
       "      <td>4.108437</td>\n",
       "      <td>0.291154</td>\n",
       "      <td>24:53</td>\n",
       "    </tr>\n",
       "  </tbody>\n",
       "</table>"
      ],
      "text/plain": [
       "<IPython.core.display.HTML object>"
      ]
     },
     "metadata": {},
     "output_type": "display_data"
    }
   ],
   "source": [
    "learn.fit_one_cycle(1, 1e-2, moms=(0.8,0.7))"
   ]
  },
  {
   "cell_type": "code",
   "execution_count": 28,
   "metadata": {},
   "outputs": [],
   "source": [
    "learn.save('fit_head')"
   ]
  },
  {
   "cell_type": "code",
   "execution_count": 29,
   "metadata": {},
   "outputs": [],
   "source": [
    "learn.load('fit_head');"
   ]
  },
  {
   "cell_type": "code",
   "execution_count": null,
   "metadata": {},
   "outputs": [],
   "source": [
    "learn.unfreeze()\n",
    "learn.fit_one_cycle(10, 1e-3, moms=(0.8,0.7))\n",
    "learn.save('fine_tuned')"
   ]
  },
  {
   "cell_type": "code",
   "execution_count": 30,
   "metadata": {},
   "outputs": [],
   "source": [
    "TEXT = \"I liked this movie because\"\n",
    "N_WORDS = 40\n",
    "N_SENTENCES = 2"
   ]
  },
  {
   "cell_type": "code",
   "execution_count": 31,
   "metadata": {},
   "outputs": [
    {
     "name": "stdout",
     "output_type": "stream",
     "text": [
      "I liked this movie because it was very well shot , but this was also one of the first films he had seen . This movie was very much like the first to see . It was a very good movie . \n",
      " \n",
      " \n",
      "I liked this movie because i think it would be funny then someone had a great movie . i did not like this film and my Troma bad taste was too bad . It had some good moments and this movie is very\n"
     ]
    }
   ],
   "source": [
    "print(\"\\n\".join(learn.predict(TEXT, N_WORDS, temperature=0.75) for _ in range(N_SENTENCES)))"
   ]
  },
  {
   "cell_type": "code",
   "execution_count": 32,
   "metadata": {},
   "outputs": [],
   "source": [
    "learn.save_encoder('fit_head_enc')"
   ]
  },
  {
   "cell_type": "markdown",
   "metadata": {},
   "source": [
    "# Classification"
   ]
  },
  {
   "cell_type": "code",
   "execution_count": 33,
   "metadata": {},
   "outputs": [],
   "source": [
    "path = untar_data(URLs.IMDB)"
   ]
  },
  {
   "cell_type": "code",
   "execution_count": 34,
   "metadata": {},
   "outputs": [
    {
     "data": {
      "text/html": [],
      "text/plain": [
       "<IPython.core.display.HTML object>"
      ]
     },
     "metadata": {},
     "output_type": "display_data"
    },
    {
     "data": {
      "text/html": [],
      "text/plain": [
       "<IPython.core.display.HTML object>"
      ]
     },
     "metadata": {},
     "output_type": "display_data"
    }
   ],
   "source": [
    "data_clas = (TextList.from_folder(path, vocab=data_lm.vocab)\n",
    "             #grab all the text files in path\n",
    "             .split_by_folder(valid='test')\n",
    "             #split by train and valid folder (that only keeps 'train' and 'test' so no need to filter)\n",
    "             .label_from_folder(classes=['neg', 'pos'])\n",
    "             #label them all with their folders\n",
    "             .databunch(bs=bs))\n",
    "\n",
    "data_clas.save('data_clas.pkl')"
   ]
  },
  {
   "cell_type": "code",
   "execution_count": 36,
   "metadata": {},
   "outputs": [],
   "source": [
    "data_clas = load_data(path, 'data_clas.pkl', bs=48)"
   ]
  },
  {
   "cell_type": "code",
   "execution_count": 37,
   "metadata": {},
   "outputs": [
    {
     "data": {
      "text/html": [
       "<table border=\"1\" class=\"dataframe\">\n",
       "  <thead>\n",
       "    <tr style=\"text-align: right;\">\n",
       "      <th>text</th>\n",
       "      <th>target</th>\n",
       "    </tr>\n",
       "  </thead>\n",
       "  <tbody>\n",
       "    <tr>\n",
       "      <td>xxbos xxmaj match 1 : xxmaj tag xxmaj team xxmaj table xxmaj match xxmaj bubba xxmaj ray and xxmaj spike xxmaj dudley vs xxmaj eddie xxmaj guerrero and xxmaj chris xxmaj benoit xxmaj bubba xxmaj ray and xxmaj spike xxmaj dudley started things off with a xxmaj tag xxmaj team xxmaj table xxmaj match against xxmaj eddie xxmaj guerrero and xxmaj chris xxmaj benoit . xxmaj according to the rules</td>\n",
       "      <td>pos</td>\n",
       "    </tr>\n",
       "    <tr>\n",
       "      <td>xxbos xxunk ) is the developing world 's answer to xxmaj silence of the xxmaj lambs . xxmaj where ` xxmaj silence ' terrorized our peace of mind , ` xxmaj citizen ' exhausts and saddens us instead . xxmaj this dramatization of the xxmaj chikatilo case translates rather well , thanks to a xxmaj westernized friendship between two xxmaj rostov cops who become equals . \\n \\n  citizenx</td>\n",
       "      <td>pos</td>\n",
       "    </tr>\n",
       "    <tr>\n",
       "      <td>xxbos xxmaj it has said that xxmaj the xxmaj movies and xxmaj baseball both thrived during xxmaj the xxmaj great xxmaj depression . xxmaj it appears that the grim realities of a xxmaj nation caught up in the aftermath of this xxmaj economic xxmaj disaster created a need for occasional relief for the populace . a temporary escape could be found in the on going soap opera that is xxmaj</td>\n",
       "      <td>pos</td>\n",
       "    </tr>\n",
       "    <tr>\n",
       "      <td>xxbos i wo n't try to speculate as to what xxmaj brando was attempting . xxmaj at his best he turns in such oddball performances , insinuating so many things at once , that it does n't seem he does anything so much as play by unfailing instinct . xxmaj often it seems he is calling attention to some favored aspect of his character over all others , a concentration</td>\n",
       "      <td>pos</td>\n",
       "    </tr>\n",
       "    <tr>\n",
       "      <td>xxbos xxmaj many neglect that this is n't just a classic due to the fact that it 's the first xxup 3d game , or even the first shoot-'em - up . xxmaj it 's also one of the first stealth games , one of the xxunk definitely the first ) truly claustrophobic games , and just a pretty well - rounded gaming experience in general . xxmaj with graphics</td>\n",
       "      <td>pos</td>\n",
       "    </tr>\n",
       "  </tbody>\n",
       "</table>"
      ],
      "text/plain": [
       "<IPython.core.display.HTML object>"
      ]
     },
     "metadata": {},
     "output_type": "display_data"
    }
   ],
   "source": [
    "data_clas.show_batch()"
   ]
  },
  {
   "cell_type": "code",
   "execution_count": 38,
   "metadata": {},
   "outputs": [
    {
     "data": {
      "text/plain": [
       "RNNLearner(data=TextClasDataBunch;\n",
       "\n",
       "Train: LabelList (25000 items)\n",
       "x: TextList\n",
       "xxbos i have not yet decided whether this will replace xxmaj anaconda as \" xxmaj the xxmaj worst xxmaj film i xxmaj have xxmaj ever xxmaj seen \" . \n",
       " \n",
       "  xxmaj even if you ignore the dodgy accents , low production values and appalling camera work this film has absolutely nothing going for it . i only went to see it as i had read the book and wanted to see how they would work the complicated plot into a 2 hour film . \n",
       " \n",
       "  xxmaj the simple answer is - they did n't . xxmaj characters appear with little to no explanation as to who they are and then proceed to play no valuable part in the narrative . xxmaj even the main characters act without reason so that by the time the film reaches it 's climax you do n't care what happens to any of them . \n",
       " \n",
       "  i can accept that books occasionally need to be rewritten to fit into films and that it is perhaps unfair to judge this film against the book it was adapted from . xxmaj but after my friends and i came out of the cinema i had to spend most of the journey home explaining what was supposed to have happened . \n",
       " \n",
       "  xxmaj they even change the true meaning of the books title \" xxmaj rancid xxmaj aluminium \" by squeezing it into yet another piece of pointless voice over just so they can allow the film to have a cool title . \n",
       " \n",
       "  a real mess of a film from start to finish .,xxbos xxmaj it is not un - common to see xxup u.s. re - makes of foreign movies that fall flat on their face , but here is the flip side ! ! ! xxmaj this is an awful re - make of the xxup u.s. movie \" xxmaj wide xxmaj awake \" by the xxmaj british ! \n",
       " \n",
       "  \" xxmaj wide xxmaj awake \" is strange but entertaining and funny ! \" xxmaj liam \" on the other hand is just strange . i must give credit to \" xxmaj liam \" for one thing , and that is making it clear that i made the right choice in changing my religion !,xxbos xxmaj the world is facing imminent destruction and a suicide mission is sent to the xxmaj sun to avert catastrophe by firing a bomb into its fiery heart : yes , it 's xxmaj solar xxmaj crisis , aka xxmaj crisis 2050 , which burned up a huge chunk of change that 's never apparent on screen back in 1990 and returned barely enough to buy a xxmaj happy xxmaj meal for each of the cast in xxmaj japan before going straight to video ( remember them ? ) in a re - edited version credited to one xxmaj alan xxmaj smithee . xxmaj the plot hook 's pretty much the same as xxmaj sunshine - suicide mission to the xxmaj sun , saboteur on board , logic cast adrift - except that this time they 're not trying to reignite the sun but to prematurely detonate a solar flare before it can reach xxmaj earth . xxmaj with a talking bomb . xxmaj voiced by xxmaj paul xxmaj williams . xxmaj who wants to be promoted so the crew will take him more seriously \n",
       "  xxmaj given that the cast also includes xxmaj jack xxmaj palance at his most dementedly xxup ott , xxmaj charlton xxmaj heston at his most rigid , top - liner xxmaj tim xxmaj matheson at his most anonymous , the original xxmaj hills xxmaj have xxmaj eyes ' unforgettable xxmaj michael xxmaj berryman ( you may not remember the name , but you xxup do remember that face ) and xxmaj peter xxmaj boyle as the industrialist out to sabotage the mission because , er , if it succeeds the world will be saved but his share price will go down , you 'd expect if not a laugh - a - minute at least a laugh every reel . xxmaj no joy . xxmaj this is the worst kind of bad movie : a boring one . xxmaj the fate of the world may be hanging in the balance but the whole film is shot with a complete lack of urgency or momentum at the same xxunk deadly slow pace . xxmaj there 's low - key and there 's walking through it , but here the cast do n't even do that . xxmaj instead , they just stand still looking at screens in near darkness for most of the time . xxmaj you keep on hoping for xxmaj paul xxmaj williams ' talking bomb to suffer an existential crisis , but instead the film just ... stands there , doing next to nothing . xxmaj literally . xxmaj this is one of the most inert movies ever made  so inert that if xxmaj clive xxmaj owen had been cast , he 'd almost have looked lively by comparison . xxmaj even a poorly explained suicidal repair attempt fails to raise a xxunk of interest since it mostly involves , yep , the cast just standing still looking at screens in near darkness . xxmaj even when the bomb prematurely goes into countdown before being launched they deal with the new crisis by \n",
       "  standing still looking at screens in near darkness as if they had all the time in the world . xxmaj merchant - xxmaj ivory films have better action scenes . \n",
       " \n",
       "  xxmaj things are n't much livelier down on xxmaj earth where the movie spends most of it 's running time with xxmaj matheson 's son / xxmaj chuck 's grandson xxmaj corin xxmaj nemec trying to hitch a ride to the xxunk across an arid landscape with xxmaj palance 's insane desert artist \" looking for that note out there while the chicks still dig me \" while waylaid by rejects from a xxmaj mad xxmaj max ripoff and evil corporate suits who track him down so they can \n",
       "  release him on a nice beach . xxmaj just do n't expect logic , if you have n't already guessed that much . xxmaj best moment ? a ditzy girl in a bar describing xxmaj jack xxmaj palance as \" xxmaj an old guy with white hair and a face like rotting leather , \" though xxmaj chucky xxmaj baby taking out the villain 's aircraft with a bazooka fired from the hip from an office window or beating up a barfly who likes his beret are welcome xxunk of camp in a film that for 99 % of it 's running time offers a whole lot of nuttin ' . xxmaj richard xxup c. xxmaj sarafian 's slightly longer original cut that played in xxmaj japan offers an additional six minutes but cries out to be cut down to a more manageable 17 minutes : the director of xxmaj vanishing xxmaj point must have thanked his lucky stars when the re - edit gave him an excuse to take his name off the film . a film so bad it 's not good , and painfully unfunny with it,xxbos \" xxmaj envy \" is bad for a number of reasons . xxmaj yes , there are unlikeable characters . xxmaj that 's not the problem . xxmaj it is that they are unlikeable and we do not care for them at all . \" xxmaj the xxmaj war of the xxmaj roses \" featured unlikeable characters but due to proper introductions we grew to at least find ourselves interested in their fate , whereas in \" xxmaj envy \" the introduction is thin , the characters are never believable , and the plot only makes things worse . \n",
       " \n",
       "  xxmaj ben xxmaj stiller is simply repulsive in his role and i 'm a fan of his work most of the time . xxmaj stiller campaigned to have this released straight - to - video and now i can see why . xxmaj the movie proposes that he 's \" best friends \" with xxmaj jack xxmaj black , but from the first five minutes we are given footage that seems to indicate xxmaj stiller hates xxmaj black . i thought this would develop into some sort of one - sided relationship ( a la \" xxmaj the xxmaj cable xxmaj guy \" ) but it never does , instead xxmaj stiller insists he 's his \" best friend \" and i felt confused as he seemed to treat xxmaj black like , well , \" poo . \" xxmaj the movie 's plot is ridiculous but it does n't matter , because it 's supposed to be an exaggerated morality tale . xxmaj unfortunately the message is lost in the mess . xxmaj walken gives a good performance but xxmaj black is off - key and annoying ( and i usually find him very funny ) . xxmaj no , it 's not a horrible film but i still ca n't believe xxmaj barry xxmaj levinson ( \" xxmaj rain xxmaj man , \" \" xxmaj sleepers \" ) is responsible for this - it 's not one of the worst films of all time but it could certainly be a whole lot better . i wish xxmaj va - xxmaj poo - xxmaj rize did exist - so we could make this film disappear forever xxrep 4 .,xxbos i love xxmaj dracula but this movie was a complete disappointment ! i remember xxmaj lee from other xxmaj dracula films from when i was younger , and i thought he was great , but this movie was really bad . i do n't know if it was my youth that fooled me into believing xxmaj lee was the ultimate xxmaj dracula , with style , looks , attraction and the evil underneath that . xxmaj or maybe it was just this film that disappointed me . \n",
       " \n",
       "  xxmaj but can you imagine xxmaj dracula with an snobbish xxmaj english accent and the body language to go along with it ? xxmaj do you like when a plot contains unrealistic choices by the characters and is boring and lacks any kind of tension .. ? xxmaj then this is a movie for you ! \n",
       " \n",
       "  xxmaj otherwise - do n't see it ! i only gave it a 2 because somehow i managed to stay awake during the whole movie . \n",
       " \n",
       "  xxmaj sorry but if you liked this movie then you must have been sleep deprived and home alone in a dark room with lots of unwatched space behind you . xxmaj maybe alone in your parents house or in a strangers home . xxmaj cause not even the characters in this flick seemed afraid , and i think that sums up the whole thing ! \n",
       " \n",
       "  xxmaj or maybe you like this film because of it 's place in xxmaj dracula cinema history , perhaps being fascinated by how the xxmaj dracula story has evolved from xxmaj nosferatu to what it is today . xxmaj cause as movie it is n't that appealing , it does n't pull you in to the suggestive mystery that for me make the xxmaj vampyre myth so fascinating . \n",
       " \n",
       "  xxmaj and furthermore it has so much of that tacky 70ies feel about it . xxmaj the scenery looks like cheap xxmaj theatre . xxmaj and i do n't say that rejecting everything made in the 70ies . xxmaj cause i can love old film as well as new .\n",
       "y: CategoryList\n",
       "neg,neg,neg,neg,neg\n",
       "Path: /home/kritika.prakash/.fastai/data/imdb;\n",
       "\n",
       "Valid: LabelList (25000 items)\n",
       "x: TextList\n",
       "xxbos xxmaj the xxmaj quick and the xxmaj undead is , finally , the first movie to actually render its own storyline null and void . xxmaj it is , essentially , one gigantic plot hole . \n",
       " \n",
       "  xxmaj aside from that , the acting was quite bad , character motivations nonexistent or unbelievable and there was n't a single character worth hanging our hat on . xxmaj the most interesting cast member ( who had great potential to be a dark horse protagonist ) got snuffed halfway through the proceedings . \n",
       " \n",
       "  xxmaj what the xxmaj quick and the xxmaj undead xxup does serve as is an excellent example of how to do good color - timing . xxmaj it looked excellent , when you take into account budget considerations . \n",
       " \n",
       "  xxmaj unfortunately , it plays out like a guy got his hands on a hundred grand and watched a few westerns ( most notably xxmaj the xxmaj good , xxmaj the xxmaj bad and xxmaj the xxmaj ugly ) and then just threw a bunch of elements haphazardly into a movie ... \" you know , they have movies where characters do xxup this ! xxmaj does it fit here ? xxmaj no , but who cares ! xxmaj they do it in other movies so i should do it here ! \" \n",
       " \n",
       "  xxmaj maybe a good view for burgeoning cinematographers and xxunk ( first - year film - schoolers ) . xxmaj otherwise , a must - miss .,xxbos xxmaj why was this film made ? xxmaj what were the creators of this thinking ? ! ? ! xxmaj the first xxup 8mm film at least had a plot that made sense and was potentially interesting . xxmaj the first film was about the snuff film industry . xxmaj this sequel is about ... hold on ... the porno industry ! ! xxmaj yes , as if the snuff film industry , an industry in which people are supposedly killed on film for entertainment , were at all in the same league with the adult film industry , an industry in which people film other people engaging in xxunk sex acts and situations for eroticism . xxmaj the idea alone should warn you about how poorly conceived the idea for this film alone is . xxmaj it is n't helped by a lack of plot , character , acting , direction , script , logic , theme , or even sound design . xxmaj this is a remarkably boring film that never once held my attention . xxmaj literally nothing works . xxmaj why would a mystery thriller film about the porno industry involving assassination and betrayal work anyway ? i do n't have much of an interest in adult films , but i certainly have watched them before . xxmaj why would somebody make a film about the evils of it and that they would make it in a sequel to a film about snuff movies ? i do n't even know if there is an industry involved in snuff film making , but i hope it does n't . xxmaj the idea of a snuff film alone is horrific and only people who are truly sick and bad would be a part of it . i do n't think that the adult film industry revolves around murder and torture . i 'm pretty sure that a lot of people make pornographic films for good intentions rather than to hurt and kill people . xxmaj it is never okay to hurt another human being . xxmaj the adult film industry is n't about hurting people . xxmaj it 's about creating films that are , to me , a diversion and a waste of time . xxmaj what is this film trying to say ? xxmaj it does n't work .,xxbos xxmaj this is the worst movie that i have ever seen . xxmaj at first i thought that it was going to be good because i 'm interested in the bermuda triangle , but instead it was terrible . xxmaj all it did was offer a bunch of lame xxunk that did n't make sense ( if time moves differently there how come the woman did n't age , and her son aged rapidly ) , and have a horrible sappy ending . xxmaj next time the guys who made this go to xxmaj bermuda they should take all copies of this movie with them . xxmaj please everyone vote for this movie so it can get on the worst movie list .,xxbos xxmaj people do n't seem to agree with me that movies can be bad and good at the same time . xxmaj the same type of people that see a movie with xxmaj carrot xxmaj top on the cover , surfing through a frickin office and continue to watch the movie with serious expectations . xxmaj is xxmaj carrot xxmaj top funny ? xxmaj of course not . xxmaj was this movie anything special ? xxmaj of course not . xxmaj it was a dumb movie and everyone assumed so simply based on what they know about xxmaj mr. xxmaj top . xxmaj movies like this , or xxmaj kazaam , or xxmaj killer xxmaj klowns xxmaj from xxmaj outer xxmaj space and pretty much any movie xxmaj pauly xxmaj shore has ever been in are not meant to be taken seriously and because of this , they really should n't be considered some of the worst movies ever made . xxmaj you watch them either expecting a dumb movie that 's hilariously bad or you are like six years old and genuinely think xxmaj carrot xxmaj top is hilarious . \n",
       " \n",
       "  xxmaj please people if you ready know xxmaj carrot xxmaj top is retarded and you want to watch a serious movie and bother writing a serious review xxrep 4 . do n't watch this . xxmaj picking on this movie is like picking on a 5 year old for not knowing the alphabet .,xxbos does n't mean this movie is good . i was really frustrated by it on many levels . it 's kind of the tip of the hat to bukowski . hey , i 've read that guy in college -- let 's see what matt dillon does with him . and i like matt dillon . i thought he came close to looking a little like hank , but mostly just the ruddy cheeks . i have to care about a character , though , and there just was n't much here to care about . i think time might be cruel to bukowski , and that bothers me a lot , because the writing was solid in a sort of post counter culture time . hard to sit through , scenes that went nowhere , and a soundtrack that made me want to vomit . i ask for very little , got less .\n",
       "y: CategoryList\n",
       "neg,neg,neg,neg,neg\n",
       "Path: /home/kritika.prakash/.fastai/data/imdb;\n",
       "\n",
       "Test: None, model=SequentialRNN(\n",
       "  (0): MultiBatchEncoder(\n",
       "    (module): AWD_LSTM(\n",
       "      (encoder): Embedding(60000, 400, padding_idx=1)\n",
       "      (encoder_dp): EmbeddingDropout(\n",
       "        (emb): Embedding(60000, 400, padding_idx=1)\n",
       "      )\n",
       "      (rnns): ModuleList(\n",
       "        (0): WeightDropout(\n",
       "          (module): LSTM(400, 1152, batch_first=True)\n",
       "        )\n",
       "        (1): WeightDropout(\n",
       "          (module): LSTM(1152, 1152, batch_first=True)\n",
       "        )\n",
       "        (2): WeightDropout(\n",
       "          (module): LSTM(1152, 400, batch_first=True)\n",
       "        )\n",
       "      )\n",
       "      (input_dp): RNNDropout()\n",
       "      (hidden_dps): ModuleList(\n",
       "        (0): RNNDropout()\n",
       "        (1): RNNDropout()\n",
       "        (2): RNNDropout()\n",
       "      )\n",
       "    )\n",
       "  )\n",
       "  (1): PoolingLinearClassifier(\n",
       "    (layers): Sequential(\n",
       "      (0): BatchNorm1d(1200, eps=1e-05, momentum=0.1, affine=True, track_running_stats=True)\n",
       "      (1): Dropout(p=0.2, inplace=False)\n",
       "      (2): Linear(in_features=1200, out_features=50, bias=True)\n",
       "      (3): ReLU(inplace=True)\n",
       "      (4): BatchNorm1d(50, eps=1e-05, momentum=0.1, affine=True, track_running_stats=True)\n",
       "      (5): Dropout(p=0.1, inplace=False)\n",
       "      (6): Linear(in_features=50, out_features=2, bias=True)\n",
       "    )\n",
       "  )\n",
       "), opt_func=functools.partial(<class 'torch.optim.adam.Adam'>, betas=(0.9, 0.99)), loss_func=FlattenedLoss of CrossEntropyLoss(), metrics=[<function accuracy at 0x14fd55b5f9d8>], true_wd=True, bn_wd=True, wd=0.01, train_bn=True, path=PosixPath('/home/kritika.prakash/.fastai/data/imdb'), model_dir='models', callback_fns=[functools.partial(<class 'fastai.basic_train.Recorder'>, add_time=True, silent=False)], callbacks=[RNNTrainer\n",
       "learn: RNNLearner(data=TextClasDataBunch;\n",
       "\n",
       "Train: LabelList (25000 items)\n",
       "x: TextList\n",
       "xxbos i have not yet decided whether this will replace xxmaj anaconda as \" xxmaj the xxmaj worst xxmaj film i xxmaj have xxmaj ever xxmaj seen \" . \n",
       " \n",
       "  xxmaj even if you ignore the dodgy accents , low production values and appalling camera work this film has absolutely nothing going for it . i only went to see it as i had read the book and wanted to see how they would work the complicated plot into a 2 hour film . \n",
       " \n",
       "  xxmaj the simple answer is - they did n't . xxmaj characters appear with little to no explanation as to who they are and then proceed to play no valuable part in the narrative . xxmaj even the main characters act without reason so that by the time the film reaches it 's climax you do n't care what happens to any of them . \n",
       " \n",
       "  i can accept that books occasionally need to be rewritten to fit into films and that it is perhaps unfair to judge this film against the book it was adapted from . xxmaj but after my friends and i came out of the cinema i had to spend most of the journey home explaining what was supposed to have happened . \n",
       " \n",
       "  xxmaj they even change the true meaning of the books title \" xxmaj rancid xxmaj aluminium \" by squeezing it into yet another piece of pointless voice over just so they can allow the film to have a cool title . \n",
       " \n",
       "  a real mess of a film from start to finish .,xxbos xxmaj it is not un - common to see xxup u.s. re - makes of foreign movies that fall flat on their face , but here is the flip side ! ! ! xxmaj this is an awful re - make of the xxup u.s. movie \" xxmaj wide xxmaj awake \" by the xxmaj british ! \n",
       " \n",
       "  \" xxmaj wide xxmaj awake \" is strange but entertaining and funny ! \" xxmaj liam \" on the other hand is just strange . i must give credit to \" xxmaj liam \" for one thing , and that is making it clear that i made the right choice in changing my religion !,xxbos xxmaj the world is facing imminent destruction and a suicide mission is sent to the xxmaj sun to avert catastrophe by firing a bomb into its fiery heart : yes , it 's xxmaj solar xxmaj crisis , aka xxmaj crisis 2050 , which burned up a huge chunk of change that 's never apparent on screen back in 1990 and returned barely enough to buy a xxmaj happy xxmaj meal for each of the cast in xxmaj japan before going straight to video ( remember them ? ) in a re - edited version credited to one xxmaj alan xxmaj smithee . xxmaj the plot hook 's pretty much the same as xxmaj sunshine - suicide mission to the xxmaj sun , saboteur on board , logic cast adrift - except that this time they 're not trying to reignite the sun but to prematurely detonate a solar flare before it can reach xxmaj earth . xxmaj with a talking bomb . xxmaj voiced by xxmaj paul xxmaj williams . xxmaj who wants to be promoted so the crew will take him more seriously \n",
       "  xxmaj given that the cast also includes xxmaj jack xxmaj palance at his most dementedly xxup ott , xxmaj charlton xxmaj heston at his most rigid , top - liner xxmaj tim xxmaj matheson at his most anonymous , the original xxmaj hills xxmaj have xxmaj eyes ' unforgettable xxmaj michael xxmaj berryman ( you may not remember the name , but you xxup do remember that face ) and xxmaj peter xxmaj boyle as the industrialist out to sabotage the mission because , er , if it succeeds the world will be saved but his share price will go down , you 'd expect if not a laugh - a - minute at least a laugh every reel . xxmaj no joy . xxmaj this is the worst kind of bad movie : a boring one . xxmaj the fate of the world may be hanging in the balance but the whole film is shot with a complete lack of urgency or momentum at the same xxunk deadly slow pace . xxmaj there 's low - key and there 's walking through it , but here the cast do n't even do that . xxmaj instead , they just stand still looking at screens in near darkness for most of the time . xxmaj you keep on hoping for xxmaj paul xxmaj williams ' talking bomb to suffer an existential crisis , but instead the film just ... stands there , doing next to nothing . xxmaj literally . xxmaj this is one of the most inert movies ever made  so inert that if xxmaj clive xxmaj owen had been cast , he 'd almost have looked lively by comparison . xxmaj even a poorly explained suicidal repair attempt fails to raise a xxunk of interest since it mostly involves , yep , the cast just standing still looking at screens in near darkness . xxmaj even when the bomb prematurely goes into countdown before being launched they deal with the new crisis by \n",
       "  standing still looking at screens in near darkness as if they had all the time in the world . xxmaj merchant - xxmaj ivory films have better action scenes . \n",
       " \n",
       "  xxmaj things are n't much livelier down on xxmaj earth where the movie spends most of it 's running time with xxmaj matheson 's son / xxmaj chuck 's grandson xxmaj corin xxmaj nemec trying to hitch a ride to the xxunk across an arid landscape with xxmaj palance 's insane desert artist \" looking for that note out there while the chicks still dig me \" while waylaid by rejects from a xxmaj mad xxmaj max ripoff and evil corporate suits who track him down so they can \n",
       "  release him on a nice beach . xxmaj just do n't expect logic , if you have n't already guessed that much . xxmaj best moment ? a ditzy girl in a bar describing xxmaj jack xxmaj palance as \" xxmaj an old guy with white hair and a face like rotting leather , \" though xxmaj chucky xxmaj baby taking out the villain 's aircraft with a bazooka fired from the hip from an office window or beating up a barfly who likes his beret are welcome xxunk of camp in a film that for 99 % of it 's running time offers a whole lot of nuttin ' . xxmaj richard xxup c. xxmaj sarafian 's slightly longer original cut that played in xxmaj japan offers an additional six minutes but cries out to be cut down to a more manageable 17 minutes : the director of xxmaj vanishing xxmaj point must have thanked his lucky stars when the re - edit gave him an excuse to take his name off the film . a film so bad it 's not good , and painfully unfunny with it,xxbos \" xxmaj envy \" is bad for a number of reasons . xxmaj yes , there are unlikeable characters . xxmaj that 's not the problem . xxmaj it is that they are unlikeable and we do not care for them at all . \" xxmaj the xxmaj war of the xxmaj roses \" featured unlikeable characters but due to proper introductions we grew to at least find ourselves interested in their fate , whereas in \" xxmaj envy \" the introduction is thin , the characters are never believable , and the plot only makes things worse . \n",
       " \n",
       "  xxmaj ben xxmaj stiller is simply repulsive in his role and i 'm a fan of his work most of the time . xxmaj stiller campaigned to have this released straight - to - video and now i can see why . xxmaj the movie proposes that he 's \" best friends \" with xxmaj jack xxmaj black , but from the first five minutes we are given footage that seems to indicate xxmaj stiller hates xxmaj black . i thought this would develop into some sort of one - sided relationship ( a la \" xxmaj the xxmaj cable xxmaj guy \" ) but it never does , instead xxmaj stiller insists he 's his \" best friend \" and i felt confused as he seemed to treat xxmaj black like , well , \" poo . \" xxmaj the movie 's plot is ridiculous but it does n't matter , because it 's supposed to be an exaggerated morality tale . xxmaj unfortunately the message is lost in the mess . xxmaj walken gives a good performance but xxmaj black is off - key and annoying ( and i usually find him very funny ) . xxmaj no , it 's not a horrible film but i still ca n't believe xxmaj barry xxmaj levinson ( \" xxmaj rain xxmaj man , \" \" xxmaj sleepers \" ) is responsible for this - it 's not one of the worst films of all time but it could certainly be a whole lot better . i wish xxmaj va - xxmaj poo - xxmaj rize did exist - so we could make this film disappear forever xxrep 4 .,xxbos i love xxmaj dracula but this movie was a complete disappointment ! i remember xxmaj lee from other xxmaj dracula films from when i was younger , and i thought he was great , but this movie was really bad . i do n't know if it was my youth that fooled me into believing xxmaj lee was the ultimate xxmaj dracula , with style , looks , attraction and the evil underneath that . xxmaj or maybe it was just this film that disappointed me . \n",
       " \n",
       "  xxmaj but can you imagine xxmaj dracula with an snobbish xxmaj english accent and the body language to go along with it ? xxmaj do you like when a plot contains unrealistic choices by the characters and is boring and lacks any kind of tension .. ? xxmaj then this is a movie for you ! \n",
       " \n",
       "  xxmaj otherwise - do n't see it ! i only gave it a 2 because somehow i managed to stay awake during the whole movie . \n",
       " \n",
       "  xxmaj sorry but if you liked this movie then you must have been sleep deprived and home alone in a dark room with lots of unwatched space behind you . xxmaj maybe alone in your parents house or in a strangers home . xxmaj cause not even the characters in this flick seemed afraid , and i think that sums up the whole thing ! \n",
       " \n",
       "  xxmaj or maybe you like this film because of it 's place in xxmaj dracula cinema history , perhaps being fascinated by how the xxmaj dracula story has evolved from xxmaj nosferatu to what it is today . xxmaj cause as movie it is n't that appealing , it does n't pull you in to the suggestive mystery that for me make the xxmaj vampyre myth so fascinating . \n",
       " \n",
       "  xxmaj and furthermore it has so much of that tacky 70ies feel about it . xxmaj the scenery looks like cheap xxmaj theatre . xxmaj and i do n't say that rejecting everything made in the 70ies . xxmaj cause i can love old film as well as new .\n",
       "y: CategoryList\n",
       "neg,neg,neg,neg,neg\n",
       "Path: /home/kritika.prakash/.fastai/data/imdb;\n",
       "\n",
       "Valid: LabelList (25000 items)\n",
       "x: TextList\n",
       "xxbos xxmaj the xxmaj quick and the xxmaj undead is , finally , the first movie to actually render its own storyline null and void . xxmaj it is , essentially , one gigantic plot hole . \n",
       " \n",
       "  xxmaj aside from that , the acting was quite bad , character motivations nonexistent or unbelievable and there was n't a single character worth hanging our hat on . xxmaj the most interesting cast member ( who had great potential to be a dark horse protagonist ) got snuffed halfway through the proceedings . \n",
       " \n",
       "  xxmaj what the xxmaj quick and the xxmaj undead xxup does serve as is an excellent example of how to do good color - timing . xxmaj it looked excellent , when you take into account budget considerations . \n",
       " \n",
       "  xxmaj unfortunately , it plays out like a guy got his hands on a hundred grand and watched a few westerns ( most notably xxmaj the xxmaj good , xxmaj the xxmaj bad and xxmaj the xxmaj ugly ) and then just threw a bunch of elements haphazardly into a movie ... \" you know , they have movies where characters do xxup this ! xxmaj does it fit here ? xxmaj no , but who cares ! xxmaj they do it in other movies so i should do it here ! \" \n",
       " \n",
       "  xxmaj maybe a good view for burgeoning cinematographers and xxunk ( first - year film - schoolers ) . xxmaj otherwise , a must - miss .,xxbos xxmaj why was this film made ? xxmaj what were the creators of this thinking ? ! ? ! xxmaj the first xxup 8mm film at least had a plot that made sense and was potentially interesting . xxmaj the first film was about the snuff film industry . xxmaj this sequel is about ... hold on ... the porno industry ! ! xxmaj yes , as if the snuff film industry , an industry in which people are supposedly killed on film for entertainment , were at all in the same league with the adult film industry , an industry in which people film other people engaging in xxunk sex acts and situations for eroticism . xxmaj the idea alone should warn you about how poorly conceived the idea for this film alone is . xxmaj it is n't helped by a lack of plot , character , acting , direction , script , logic , theme , or even sound design . xxmaj this is a remarkably boring film that never once held my attention . xxmaj literally nothing works . xxmaj why would a mystery thriller film about the porno industry involving assassination and betrayal work anyway ? i do n't have much of an interest in adult films , but i certainly have watched them before . xxmaj why would somebody make a film about the evils of it and that they would make it in a sequel to a film about snuff movies ? i do n't even know if there is an industry involved in snuff film making , but i hope it does n't . xxmaj the idea of a snuff film alone is horrific and only people who are truly sick and bad would be a part of it . i do n't think that the adult film industry revolves around murder and torture . i 'm pretty sure that a lot of people make pornographic films for good intentions rather than to hurt and kill people . xxmaj it is never okay to hurt another human being . xxmaj the adult film industry is n't about hurting people . xxmaj it 's about creating films that are , to me , a diversion and a waste of time . xxmaj what is this film trying to say ? xxmaj it does n't work .,xxbos xxmaj this is the worst movie that i have ever seen . xxmaj at first i thought that it was going to be good because i 'm interested in the bermuda triangle , but instead it was terrible . xxmaj all it did was offer a bunch of lame xxunk that did n't make sense ( if time moves differently there how come the woman did n't age , and her son aged rapidly ) , and have a horrible sappy ending . xxmaj next time the guys who made this go to xxmaj bermuda they should take all copies of this movie with them . xxmaj please everyone vote for this movie so it can get on the worst movie list .,xxbos xxmaj people do n't seem to agree with me that movies can be bad and good at the same time . xxmaj the same type of people that see a movie with xxmaj carrot xxmaj top on the cover , surfing through a frickin office and continue to watch the movie with serious expectations . xxmaj is xxmaj carrot xxmaj top funny ? xxmaj of course not . xxmaj was this movie anything special ? xxmaj of course not . xxmaj it was a dumb movie and everyone assumed so simply based on what they know about xxmaj mr. xxmaj top . xxmaj movies like this , or xxmaj kazaam , or xxmaj killer xxmaj klowns xxmaj from xxmaj outer xxmaj space and pretty much any movie xxmaj pauly xxmaj shore has ever been in are not meant to be taken seriously and because of this , they really should n't be considered some of the worst movies ever made . xxmaj you watch them either expecting a dumb movie that 's hilariously bad or you are like six years old and genuinely think xxmaj carrot xxmaj top is hilarious . \n",
       " \n",
       "  xxmaj please people if you ready know xxmaj carrot xxmaj top is retarded and you want to watch a serious movie and bother writing a serious review xxrep 4 . do n't watch this . xxmaj picking on this movie is like picking on a 5 year old for not knowing the alphabet .,xxbos does n't mean this movie is good . i was really frustrated by it on many levels . it 's kind of the tip of the hat to bukowski . hey , i 've read that guy in college -- let 's see what matt dillon does with him . and i like matt dillon . i thought he came close to looking a little like hank , but mostly just the ruddy cheeks . i have to care about a character , though , and there just was n't much here to care about . i think time might be cruel to bukowski , and that bothers me a lot , because the writing was solid in a sort of post counter culture time . hard to sit through , scenes that went nowhere , and a soundtrack that made me want to vomit . i ask for very little , got less .\n",
       "y: CategoryList\n",
       "neg,neg,neg,neg,neg\n",
       "Path: /home/kritika.prakash/.fastai/data/imdb;\n",
       "\n",
       "Test: None, model=SequentialRNN(\n",
       "  (0): MultiBatchEncoder(\n",
       "    (module): AWD_LSTM(\n",
       "      (encoder): Embedding(60000, 400, padding_idx=1)\n",
       "      (encoder_dp): EmbeddingDropout(\n",
       "        (emb): Embedding(60000, 400, padding_idx=1)\n",
       "      )\n",
       "      (rnns): ModuleList(\n",
       "        (0): WeightDropout(\n",
       "          (module): LSTM(400, 1152, batch_first=True)\n",
       "        )\n",
       "        (1): WeightDropout(\n",
       "          (module): LSTM(1152, 1152, batch_first=True)\n",
       "        )\n",
       "        (2): WeightDropout(\n",
       "          (module): LSTM(1152, 400, batch_first=True)\n",
       "        )\n",
       "      )\n",
       "      (input_dp): RNNDropout()\n",
       "      (hidden_dps): ModuleList(\n",
       "        (0): RNNDropout()\n",
       "        (1): RNNDropout()\n",
       "        (2): RNNDropout()\n",
       "      )\n",
       "    )\n",
       "  )\n",
       "  (1): PoolingLinearClassifier(\n",
       "    (layers): Sequential(\n",
       "      (0): BatchNorm1d(1200, eps=1e-05, momentum=0.1, affine=True, track_running_stats=True)\n",
       "      (1): Dropout(p=0.2, inplace=False)\n",
       "      (2): Linear(in_features=1200, out_features=50, bias=True)\n",
       "      (3): ReLU(inplace=True)\n",
       "      (4): BatchNorm1d(50, eps=1e-05, momentum=0.1, affine=True, track_running_stats=True)\n",
       "      (5): Dropout(p=0.1, inplace=False)\n",
       "      (6): Linear(in_features=50, out_features=2, bias=True)\n",
       "    )\n",
       "  )\n",
       "), opt_func=functools.partial(<class 'torch.optim.adam.Adam'>, betas=(0.9, 0.99)), loss_func=FlattenedLoss of CrossEntropyLoss(), metrics=[<function accuracy at 0x14fd55b5f9d8>], true_wd=True, bn_wd=True, wd=0.01, train_bn=True, path=PosixPath('/home/kritika.prakash/.fastai/data/imdb'), model_dir='models', callback_fns=[functools.partial(<class 'fastai.basic_train.Recorder'>, add_time=True, silent=False)], callbacks=[...], layer_groups=[Sequential(\n",
       "  (0): Embedding(60000, 400, padding_idx=1)\n",
       "  (1): EmbeddingDropout(\n",
       "    (emb): Embedding(60000, 400, padding_idx=1)\n",
       "  )\n",
       "), Sequential(\n",
       "  (0): WeightDropout(\n",
       "    (module): LSTM(400, 1152, batch_first=True)\n",
       "  )\n",
       "  (1): RNNDropout()\n",
       "), Sequential(\n",
       "  (0): WeightDropout(\n",
       "    (module): LSTM(1152, 1152, batch_first=True)\n",
       "  )\n",
       "  (1): RNNDropout()\n",
       "), Sequential(\n",
       "  (0): WeightDropout(\n",
       "    (module): LSTM(1152, 400, batch_first=True)\n",
       "  )\n",
       "  (1): RNNDropout()\n",
       "), Sequential(\n",
       "  (0): PoolingLinearClassifier(\n",
       "    (layers): Sequential(\n",
       "      (0): BatchNorm1d(1200, eps=1e-05, momentum=0.1, affine=True, track_running_stats=True)\n",
       "      (1): Dropout(p=0.2, inplace=False)\n",
       "      (2): Linear(in_features=1200, out_features=50, bias=True)\n",
       "      (3): ReLU(inplace=True)\n",
       "      (4): BatchNorm1d(50, eps=1e-05, momentum=0.1, affine=True, track_running_stats=True)\n",
       "      (5): Dropout(p=0.1, inplace=False)\n",
       "      (6): Linear(in_features=50, out_features=2, bias=True)\n",
       "    )\n",
       "  )\n",
       ")], add_time=True, silent=False)\n",
       "alpha: 2.0\n",
       "beta: 1.0], layer_groups=[Sequential(\n",
       "  (0): Embedding(60000, 400, padding_idx=1)\n",
       "  (1): EmbeddingDropout(\n",
       "    (emb): Embedding(60000, 400, padding_idx=1)\n",
       "  )\n",
       "), Sequential(\n",
       "  (0): WeightDropout(\n",
       "    (module): LSTM(400, 1152, batch_first=True)\n",
       "  )\n",
       "  (1): RNNDropout()\n",
       "), Sequential(\n",
       "  (0): WeightDropout(\n",
       "    (module): LSTM(1152, 1152, batch_first=True)\n",
       "  )\n",
       "  (1): RNNDropout()\n",
       "), Sequential(\n",
       "  (0): WeightDropout(\n",
       "    (module): LSTM(1152, 400, batch_first=True)\n",
       "  )\n",
       "  (1): RNNDropout()\n",
       "), Sequential(\n",
       "  (0): PoolingLinearClassifier(\n",
       "    (layers): Sequential(\n",
       "      (0): BatchNorm1d(1200, eps=1e-05, momentum=0.1, affine=True, track_running_stats=True)\n",
       "      (1): Dropout(p=0.2, inplace=False)\n",
       "      (2): Linear(in_features=1200, out_features=50, bias=True)\n",
       "      (3): ReLU(inplace=True)\n",
       "      (4): BatchNorm1d(50, eps=1e-05, momentum=0.1, affine=True, track_running_stats=True)\n",
       "      (5): Dropout(p=0.1, inplace=False)\n",
       "      (6): Linear(in_features=50, out_features=2, bias=True)\n",
       "    )\n",
       "  )\n",
       ")], add_time=True, silent=False)"
      ]
     },
     "execution_count": 38,
     "metadata": {},
     "output_type": "execute_result"
    }
   ],
   "source": [
    "learn = text_classifier_learner(data_clas, AWD_LSTM, drop_mult=0.5)\n",
    "learn.load_encoder('fit_head_enc')"
   ]
  },
  {
   "cell_type": "code",
   "execution_count": 39,
   "metadata": {},
   "outputs": [
    {
     "data": {
      "text/html": [
       "\n",
       "    <div>\n",
       "        <style>\n",
       "            /* Turns off some styling */\n",
       "            progress {\n",
       "                /* gets rid of default border in Firefox and Opera. */\n",
       "                border: none;\n",
       "                /* Needs to be in here for Safari polyfill so background images work as expected. */\n",
       "                background-size: auto;\n",
       "            }\n",
       "            .progress-bar-interrupted, .progress-bar-interrupted::-webkit-progress-bar {\n",
       "                background: #F44336;\n",
       "            }\n",
       "        </style>\n",
       "      <progress value='0' class='' max='1' style='width:300px; height:20px; vertical-align: middle;'></progress>\n",
       "      0.00% [0/1 00:00<00:00]\n",
       "    </div>\n",
       "    \n",
       "<table border=\"1\" class=\"dataframe\">\n",
       "  <thead>\n",
       "    <tr style=\"text-align: left;\">\n",
       "      <th>epoch</th>\n",
       "      <th>train_loss</th>\n",
       "      <th>valid_loss</th>\n",
       "      <th>accuracy</th>\n",
       "      <th>time</th>\n",
       "    </tr>\n",
       "  </thead>\n",
       "  <tbody>\n",
       "  </tbody>\n",
       "</table><p>\n",
       "\n",
       "    <div>\n",
       "        <style>\n",
       "            /* Turns off some styling */\n",
       "            progress {\n",
       "                /* gets rid of default border in Firefox and Opera. */\n",
       "                border: none;\n",
       "                /* Needs to be in here for Safari polyfill so background images work as expected. */\n",
       "                background-size: auto;\n",
       "            }\n",
       "            .progress-bar-interrupted, .progress-bar-interrupted::-webkit-progress-bar {\n",
       "                background: #F44336;\n",
       "            }\n",
       "        </style>\n",
       "      <progress value='94' class='' max='520' style='width:300px; height:20px; vertical-align: middle;'></progress>\n",
       "      18.08% [94/520 00:17<01:18 1.7745]\n",
       "    </div>\n",
       "    "
      ],
      "text/plain": [
       "<IPython.core.display.HTML object>"
      ]
     },
     "metadata": {},
     "output_type": "display_data"
    },
    {
     "name": "stdout",
     "output_type": "stream",
     "text": [
      "LR Finder is complete, type {learner_name}.recorder.plot() to see the graph.\n"
     ]
    }
   ],
   "source": [
    "learn.lr_find()"
   ]
  },
  {
   "cell_type": "code",
   "execution_count": 40,
   "metadata": {},
   "outputs": [
    {
     "data": {
      "image/png": "[encoded data removed]",
      "text/plain": [
       "<Figure size 432x288 with 1 Axes>"
      ]
     },
     "metadata": {
      "needs_background": "light"
     },
     "output_type": "display_data"
    }
   ],
   "source": [
    "learn.recorder.plot()"
   ]
  },
  {
   "cell_type": "code",
   "execution_count": 41,
   "metadata": {},
   "outputs": [
    {
     "data": {
      "text/html": [
       "<table border=\"1\" class=\"dataframe\">\n",
       "  <thead>\n",
       "    <tr style=\"text-align: left;\">\n",
       "      <th>epoch</th>\n",
       "      <th>train_loss</th>\n",
       "      <th>valid_loss</th>\n",
       "      <th>accuracy</th>\n",
       "      <th>time</th>\n",
       "    </tr>\n",
       "  </thead>\n",
       "  <tbody>\n",
       "    <tr>\n",
       "      <td>0</td>\n",
       "      <td>0.423072</td>\n",
       "      <td>0.352326</td>\n",
       "      <td>0.845200</td>\n",
       "      <td>03:03</td>\n",
       "    </tr>\n",
       "  </tbody>\n",
       "</table>"
      ],
      "text/plain": [
       "<IPython.core.display.HTML object>"
      ]
     },
     "metadata": {},
     "output_type": "display_data"
    }
   ],
   "source": [
    "learn.fit_one_cycle(1, 2e-2, moms=(0.8,0.7))"
   ]
  },
  {
   "cell_type": "code",
   "execution_count": null,
   "metadata": {},
   "outputs": [],
   "source": [
    "learn.save('first')"
   ]
  },
  {
   "cell_type": "code",
   "execution_count": null,
   "metadata": {},
   "outputs": [],
   "source": [
    "learn.load('first');"
   ]
  },
  {
   "cell_type": "code",
   "execution_count": null,
   "metadata": {},
   "outputs": [],
   "source": [
    "learn.freeze_to(-2)\n",
    "learn.fit_one_cycle(1, slice(1e-2/(2.6**4),1e-2), moms=(0.8,0.7))"
   ]
  },
  {
   "cell_type": "code",
   "execution_count": null,
   "metadata": {},
   "outputs": [],
   "source": [
    "learn.save('second')"
   ]
  },
  {
   "cell_type": "code",
   "execution_count": null,
   "metadata": {},
   "outputs": [],
   "source": [
    "learn.load('second');"
   ]
  },
  {
   "cell_type": "code",
   "execution_count": null,
   "metadata": {},
   "outputs": [],
   "source": [
    "learn.freeze_to(-3)\n",
    "learn.fit_one_cycle(1, slice(5e-3/(2.6**4),5e-3), moms=(0.8,0.7))"
   ]
  },
  {
   "cell_type": "code",
   "execution_count": null,
   "metadata": {},
   "outputs": [],
   "source": [
    "learn.save('third')"
   ]
  },
  {
   "cell_type": "code",
   "execution_count": null,
   "metadata": {},
   "outputs": [],
   "source": [
    "learn.load('third');"
   ]
  },
  {
   "cell_type": "code",
   "execution_count": null,
   "metadata": {},
   "outputs": [],
   "source": [
    "learn.unfreeze()\n",
    "learn.fit_one_cycle(2, slice(1e-3/(2.6**4),1e-3), moms=(0.8,0.7))"
   ]
  },
  {
   "cell_type": "code",
   "execution_count": null,
   "metadata": {},
   "outputs": [],
   "source": [
    "learn.predict(\"I really loved that movie, it was awesome!\")"
   ]
  },
  {
   "cell_type": "markdown",
   "metadata": {},
   "source": [
    "# Tabular"
   ]
  },
  {
   "cell_type": "code",
   "execution_count": 43,
   "metadata": {},
   "outputs": [],
   "source": [
    "from fastai import *\n",
    "from fastai.tabular import *"
   ]
  },
  {
   "cell_type": "code",
   "execution_count": 45,
   "metadata": {},
   "outputs": [],
   "source": [
    "path = untar_data(URLs.ADULT_SAMPLE)\n",
    "df = pd.read_csv(path/'adult.csv')"
   ]
  },
  {
   "cell_type": "code",
   "execution_count": 46,
   "metadata": {},
   "outputs": [],
   "source": [
    "dep_var = 'salary'\n",
    "cat_names = ['workclass', 'education', 'marital-status', 'occupation', 'relationship', 'race']\n",
    "cont_names = ['age', 'fnlwgt', 'education-num']\n",
    "procs = [FillMissing, Categorify, Normalize]"
   ]
  },
  {
   "cell_type": "code",
   "execution_count": 47,
   "metadata": {},
   "outputs": [],
   "source": [
    "test = TabularList.from_df(df.iloc[800:1000].copy(), path=path, cat_names=cat_names, cont_names=cont_names)"
   ]
  },
  {
   "cell_type": "code",
   "execution_count": 48,
   "metadata": {},
   "outputs": [],
   "source": [
    "data = (TabularList.from_df(df, path=path, cat_names=cat_names, cont_names=cont_names, procs=procs)\n",
    "                           .split_by_idx(list(range(800,1000)))\n",
    "                           .label_from_df(cols=dep_var)\n",
    "                           .add_test(test)\n",
    "                           .databunch())"
   ]
  },
  {
   "cell_type": "code",
   "execution_count": 49,
   "metadata": {},
   "outputs": [
    {
     "data": {
      "text/html": [
       "<table border=\"1\" class=\"dataframe\">\n",
       "  <thead>\n",
       "    <tr style=\"text-align: right;\">\n",
       "      <th>workclass</th>\n",
       "      <th>education</th>\n",
       "      <th>marital-status</th>\n",
       "      <th>occupation</th>\n",
       "      <th>relationship</th>\n",
       "      <th>race</th>\n",
       "      <th>education-num_na</th>\n",
       "      <th>age</th>\n",
       "      <th>fnlwgt</th>\n",
       "      <th>education-num</th>\n",
       "      <th>target</th>\n",
       "    </tr>\n",
       "  </thead>\n",
       "  <tbody>\n",
       "    <tr>\n",
       "      <td>?</td>\n",
       "      <td>10th</td>\n",
       "      <td>Never-married</td>\n",
       "      <td>?</td>\n",
       "      <td>Own-child</td>\n",
       "      <td>White</td>\n",
       "      <td>False</td>\n",
       "      <td>-1.5823</td>\n",
       "      <td>-0.4324</td>\n",
       "      <td>-1.5958</td>\n",
       "      <td>&lt;50k</td>\n",
       "    </tr>\n",
       "    <tr>\n",
       "      <td>Private</td>\n",
       "      <td>Some-college</td>\n",
       "      <td>Divorced</td>\n",
       "      <td>Prof-specialty</td>\n",
       "      <td>Not-in-family</td>\n",
       "      <td>White</td>\n",
       "      <td>False</td>\n",
       "      <td>0.6166</td>\n",
       "      <td>1.3219</td>\n",
       "      <td>-0.0312</td>\n",
       "      <td>&gt;=50k</td>\n",
       "    </tr>\n",
       "    <tr>\n",
       "      <td>Private</td>\n",
       "      <td>Some-college</td>\n",
       "      <td>Divorced</td>\n",
       "      <td>Adm-clerical</td>\n",
       "      <td>Unmarried</td>\n",
       "      <td>White</td>\n",
       "      <td>False</td>\n",
       "      <td>-0.3362</td>\n",
       "      <td>-0.1760</td>\n",
       "      <td>-0.0312</td>\n",
       "      <td>&lt;50k</td>\n",
       "    </tr>\n",
       "    <tr>\n",
       "      <td>Private</td>\n",
       "      <td>11th</td>\n",
       "      <td>Married-civ-spouse</td>\n",
       "      <td>Transport-moving</td>\n",
       "      <td>Husband</td>\n",
       "      <td>White</td>\n",
       "      <td>False</td>\n",
       "      <td>0.6899</td>\n",
       "      <td>2.1203</td>\n",
       "      <td>-1.2046</td>\n",
       "      <td>&lt;50k</td>\n",
       "    </tr>\n",
       "    <tr>\n",
       "      <td>Private</td>\n",
       "      <td>HS-grad</td>\n",
       "      <td>Never-married</td>\n",
       "      <td>Other-service</td>\n",
       "      <td>Not-in-family</td>\n",
       "      <td>White</td>\n",
       "      <td>False</td>\n",
       "      <td>-0.8493</td>\n",
       "      <td>-0.2993</td>\n",
       "      <td>-0.4224</td>\n",
       "      <td>&lt;50k</td>\n",
       "    </tr>\n",
       "    <tr>\n",
       "      <td>Private</td>\n",
       "      <td>Bachelors</td>\n",
       "      <td>Married-civ-spouse</td>\n",
       "      <td>Exec-managerial</td>\n",
       "      <td>Husband</td>\n",
       "      <td>White</td>\n",
       "      <td>False</td>\n",
       "      <td>-0.5561</td>\n",
       "      <td>-0.1776</td>\n",
       "      <td>1.1422</td>\n",
       "      <td>&gt;=50k</td>\n",
       "    </tr>\n",
       "    <tr>\n",
       "      <td>Private</td>\n",
       "      <td>Bachelors</td>\n",
       "      <td>Married-civ-spouse</td>\n",
       "      <td>Exec-managerial</td>\n",
       "      <td>Wife</td>\n",
       "      <td>White</td>\n",
       "      <td>False</td>\n",
       "      <td>-0.3362</td>\n",
       "      <td>-0.0078</td>\n",
       "      <td>1.1422</td>\n",
       "      <td>&lt;50k</td>\n",
       "    </tr>\n",
       "    <tr>\n",
       "      <td>Self-emp-inc</td>\n",
       "      <td>Prof-school</td>\n",
       "      <td>Married-civ-spouse</td>\n",
       "      <td>Prof-specialty</td>\n",
       "      <td>Husband</td>\n",
       "      <td>White</td>\n",
       "      <td>False</td>\n",
       "      <td>1.3496</td>\n",
       "      <td>-0.6136</td>\n",
       "      <td>1.9245</td>\n",
       "      <td>&gt;=50k</td>\n",
       "    </tr>\n",
       "    <tr>\n",
       "      <td>Federal-gov</td>\n",
       "      <td>Bachelors</td>\n",
       "      <td>Married-civ-spouse</td>\n",
       "      <td>Exec-managerial</td>\n",
       "      <td>Husband</td>\n",
       "      <td>White</td>\n",
       "      <td>False</td>\n",
       "      <td>0.2502</td>\n",
       "      <td>-0.5460</td>\n",
       "      <td>1.1422</td>\n",
       "      <td>&gt;=50k</td>\n",
       "    </tr>\n",
       "    <tr>\n",
       "      <td>Private</td>\n",
       "      <td>HS-grad</td>\n",
       "      <td>Married-civ-spouse</td>\n",
       "      <td>Craft-repair</td>\n",
       "      <td>Husband</td>\n",
       "      <td>White</td>\n",
       "      <td>False</td>\n",
       "      <td>0.3968</td>\n",
       "      <td>0.3102</td>\n",
       "      <td>-0.4224</td>\n",
       "      <td>&lt;50k</td>\n",
       "    </tr>\n",
       "  </tbody>\n",
       "</table>"
      ],
      "text/plain": [
       "<IPython.core.display.HTML object>"
      ]
     },
     "metadata": {},
     "output_type": "display_data"
    }
   ],
   "source": [
    "data.show_batch(rows=10)"
   ]
  },
  {
   "cell_type": "code",
   "execution_count": 50,
   "metadata": {},
   "outputs": [],
   "source": [
    "learn = tabular_learner(data, layers=[200,100], metrics=accuracy)"
   ]
  },
  {
   "cell_type": "code",
   "execution_count": 51,
   "metadata": {},
   "outputs": [
    {
     "data": {
      "text/html": [
       "<table border=\"1\" class=\"dataframe\">\n",
       "  <thead>\n",
       "    <tr style=\"text-align: left;\">\n",
       "      <th>epoch</th>\n",
       "      <th>train_loss</th>\n",
       "      <th>valid_loss</th>\n",
       "      <th>accuracy</th>\n",
       "      <th>time</th>\n",
       "    </tr>\n",
       "  </thead>\n",
       "  <tbody>\n",
       "    <tr>\n",
       "      <td>0</td>\n",
       "      <td>0.368500</td>\n",
       "      <td>0.391308</td>\n",
       "      <td>0.815000</td>\n",
       "      <td>00:04</td>\n",
       "    </tr>\n",
       "  </tbody>\n",
       "</table>"
      ],
      "text/plain": [
       "<IPython.core.display.HTML object>"
      ]
     },
     "metadata": {},
     "output_type": "display_data"
    }
   ],
   "source": [
    "learn.fit(1, 1e-2)"
   ]
  },
  {
   "cell_type": "code",
   "execution_count": 52,
   "metadata": {},
   "outputs": [],
   "source": [
    "row = df.iloc[0]"
   ]
  },
  {
   "cell_type": "code",
   "execution_count": 53,
   "metadata": {},
   "outputs": [
    {
     "data": {
      "text/plain": [
       "(Category tensor(1), tensor(1), tensor([0.3320, 0.6680]))"
      ]
     },
     "execution_count": 53,
     "metadata": {},
     "output_type": "execute_result"
    }
   ],
   "source": [
    "learn.predict(row)"
   ]
  },
  {
   "cell_type": "markdown",
   "metadata": {},
   "source": [
    "# Collaborative Filtering"
   ]
  },
  {
   "cell_type": "code",
   "execution_count": 1,
   "metadata": {},
   "outputs": [],
   "source": [
    "from fastai.collab import *\n",
    "from fastai.tabular import *"
   ]
  },
  {
   "cell_type": "code",
   "execution_count": 2,
   "metadata": {},
   "outputs": [],
   "source": [
    "user,item,title = 'userId','movieId','title'"
   ]
  },
  {
   "cell_type": "code",
   "execution_count": 3,
   "metadata": {},
   "outputs": [
    {
     "name": "stdout",
     "output_type": "stream",
     "text": [
      "Downloading http://files.fast.ai/data/examples/movie_lens_sample.tgz\n"
     ]
    },
    {
     "data": {
      "text/html": [],
      "text/plain": [
       "<IPython.core.display.HTML object>"
      ]
     },
     "metadata": {},
     "output_type": "display_data"
    },
    {
     "data": {
      "text/plain": [
       "PosixPath('/home/kritika.prakash/.fastai/data/movie_lens_sample')"
      ]
     },
     "execution_count": 3,
     "metadata": {},
     "output_type": "execute_result"
    }
   ],
   "source": [
    "path = untar_data(URLs.ML_SAMPLE)\n",
    "path"
   ]
  },
  {
   "cell_type": "code",
   "execution_count": 4,
   "metadata": {},
   "outputs": [
    {
     "data": {
      "text/html": [
       "<div>\n",
       "<style scoped>\n",
       "    .dataframe tbody tr th:only-of-type {\n",
       "        vertical-align: middle;\n",
       "    }\n",
       "\n",
       "    .dataframe tbody tr th {\n",
       "        vertical-align: top;\n",
       "    }\n",
       "\n",
       "    .dataframe thead th {\n",
       "        text-align: right;\n",
       "    }\n",
       "</style>\n",
       "<table border=\"1\" class=\"dataframe\">\n",
       "  <thead>\n",
       "    <tr style=\"text-align: right;\">\n",
       "      <th></th>\n",
       "      <th>userId</th>\n",
       "      <th>movieId</th>\n",
       "      <th>rating</th>\n",
       "      <th>timestamp</th>\n",
       "    </tr>\n",
       "  </thead>\n",
       "  <tbody>\n",
       "    <tr>\n",
       "      <th>0</th>\n",
       "      <td>73</td>\n",
       "      <td>1097</td>\n",
       "      <td>4.0</td>\n",
       "      <td>1255504951</td>\n",
       "    </tr>\n",
       "    <tr>\n",
       "      <th>1</th>\n",
       "      <td>561</td>\n",
       "      <td>924</td>\n",
       "      <td>3.5</td>\n",
       "      <td>1172695223</td>\n",
       "    </tr>\n",
       "    <tr>\n",
       "      <th>2</th>\n",
       "      <td>157</td>\n",
       "      <td>260</td>\n",
       "      <td>3.5</td>\n",
       "      <td>1291598691</td>\n",
       "    </tr>\n",
       "    <tr>\n",
       "      <th>3</th>\n",
       "      <td>358</td>\n",
       "      <td>1210</td>\n",
       "      <td>5.0</td>\n",
       "      <td>957481884</td>\n",
       "    </tr>\n",
       "    <tr>\n",
       "      <th>4</th>\n",
       "      <td>130</td>\n",
       "      <td>316</td>\n",
       "      <td>2.0</td>\n",
       "      <td>1138999234</td>\n",
       "    </tr>\n",
       "  </tbody>\n",
       "</table>\n",
       "</div>"
      ],
      "text/plain": [
       "   userId  movieId  rating   timestamp\n",
       "0      73     1097     4.0  1255504951\n",
       "1     561      924     3.5  1172695223\n",
       "2     157      260     3.5  1291598691\n",
       "3     358     1210     5.0   957481884\n",
       "4     130      316     2.0  1138999234"
      ]
     },
     "execution_count": 4,
     "metadata": {},
     "output_type": "execute_result"
    }
   ],
   "source": [
    "ratings = pd.read_csv(path/'ratings.csv')\n",
    "ratings.head()"
   ]
  },
  {
   "cell_type": "code",
   "execution_count": 5,
   "metadata": {},
   "outputs": [],
   "source": [
    "data = CollabDataBunch.from_df(ratings, seed=42)"
   ]
  },
  {
   "cell_type": "code",
   "execution_count": 6,
   "metadata": {},
   "outputs": [],
   "source": [
    "y_range = [0,5.5]"
   ]
  },
  {
   "cell_type": "code",
   "execution_count": 7,
   "metadata": {},
   "outputs": [],
   "source": [
    "learn = collab_learner(data, n_factors=50, y_range=y_range)"
   ]
  },
  {
   "cell_type": "code",
   "execution_count": 8,
   "metadata": {},
   "outputs": [
    {
     "data": {
      "text/html": [
       "<table border=\"1\" class=\"dataframe\">\n",
       "  <thead>\n",
       "    <tr style=\"text-align: left;\">\n",
       "      <th>epoch</th>\n",
       "      <th>train_loss</th>\n",
       "      <th>valid_loss</th>\n",
       "      <th>time</th>\n",
       "    </tr>\n",
       "  </thead>\n",
       "  <tbody>\n",
       "    <tr>\n",
       "      <td>0</td>\n",
       "      <td>1.624769</td>\n",
       "      <td>0.949369</td>\n",
       "      <td>00:00</td>\n",
       "    </tr>\n",
       "    <tr>\n",
       "      <td>1</td>\n",
       "      <td>0.862080</td>\n",
       "      <td>0.677547</td>\n",
       "      <td>00:00</td>\n",
       "    </tr>\n",
       "    <tr>\n",
       "      <td>2</td>\n",
       "      <td>0.651533</td>\n",
       "      <td>0.670411</td>\n",
       "      <td>00:00</td>\n",
       "    </tr>\n",
       "  </tbody>\n",
       "</table>"
      ],
      "text/plain": [
       "<IPython.core.display.HTML object>"
      ]
     },
     "metadata": {},
     "output_type": "display_data"
    }
   ],
   "source": [
    "learn.fit_one_cycle(3, 5e-3)"
   ]
  },
  {
   "cell_type": "code",
   "execution_count": null,
   "metadata": {},
   "outputs": [],
   "source": []
  }
 ],
 "metadata": {
  "kernelspec": {
   "display_name": "Python 3",
   "language": "python",
   "name": "python3"
  },
  "language_info": {
   "codemirror_mode": {
    "name": "ipython",
    "version": 3
   },
   "file_extension": ".py",
   "mimetype": "text/x-python",
   "name": "python",
   "nbconvert_exporter": "python",
   "pygments_lexer": "ipython3",
   "version": "3.6.8"
  }
 },
 "nbformat": 4,
 "nbformat_minor": 4
}
